{
  "nbformat": 4,
  "nbformat_minor": 0,
  "metadata": {
    "colab": {
      "provenance": []
    },
    "kernelspec": {
      "name": "python3",
      "display_name": "Python 3"
    },
    "language_info": {
      "name": "python"
    }
  },
  "cells": [
    {
      "cell_type": "code",
      "execution_count": 16,
      "metadata": {
        "colab": {
          "base_uri": "https://localhost:8080/"
        },
        "id": "4U7m0uVIVKwJ",
        "outputId": "0b2311c0-352b-43d4-bd2d-dfa313a90737"
      },
      "outputs": [
        {
          "output_type": "stream",
          "name": "stderr",
          "text": [
            "<ipython-input-16-2795f5bd66c5>:8: DeprecationWarning: Please use `pearsonr` from the `scipy.stats` namespace, the `scipy.stats.stats` namespace is deprecated.\n",
            "  from scipy.stats.stats import pearsonr\n"
          ]
        }
      ],
      "source": [
        "from numpy import * \n",
        "from os import listdir \n",
        "import matplotlib \n",
        "import matplotlib.pyplot as plt \n",
        "import pandas as pd \n",
        "import numpy as np1 \n",
        "import numpy.linalg as np \n",
        "from scipy.stats.stats import pearsonr\n",
        "import numpy as np \n",
        "from bokeh.plotting import figure, show, output_notebook \n",
        "from bokeh.layouts import gridplot \n",
        "from bokeh.io import push_notebook\n",
        "import matplotlib.pyplot as plt \n",
        "import pandas as pd\n",
        "import numpy as np"
      ]
    },
    {
      "cell_type": "code",
      "source": [
        "def kernel(point,xmat, k):\n",
        "    m,n = np1.shape(xmat) \n",
        "    weights = np1.mat(np1.eye((m))) \n",
        "    for j in range(m): \n",
        "        diff = point - X[j] \n",
        "        weights[j,j] = np1.exp(diff*diff.T/(-2.0*k**2)) \n",
        "    return weights\n",
        "  \n",
        "def localWeight(point,xmat,ymat,k): \n",
        "    wei = kernel(point,xmat,k) \n",
        "    W = (X.T*(wei*X)).I*(X.T*(wei*ymat.T)) \n",
        "    return W\n",
        "  "
      ],
      "metadata": {
        "id": "Cz0pRT9-VLiR"
      },
      "execution_count": 4,
      "outputs": []
    },
    {
      "cell_type": "code",
      "source": [
        "def localWeightRegression(xmat,ymat,k):\n",
        "    m,n = np1.shape(xmat) \n",
        "    ypred = np1.zeros(m) \n",
        "    for i in range(m): \n",
        "        ypred[i] = xmat[i]*localWeight(xmat[i],xmat,ymat,k) \n",
        "    return ypred"
      ],
      "metadata": {
        "id": "yAGhL7zNVPHs"
      },
      "execution_count": 5,
      "outputs": []
    },
    {
      "cell_type": "code",
      "source": [
        "  #load data points \n",
        "data = pd.read_csv('tips.csv') \n",
        "bill = np1.array(data.total_bill) \n",
        "tip = np1.array(data.tip)"
      ],
      "metadata": {
        "id": "6HsygVLgVUMw"
      },
      "execution_count": 8,
      "outputs": []
    },
    {
      "cell_type": "code",
      "source": [
        "#preparing and add 1 in bill \n",
        "mbill = np1.mat(bill) \n",
        "mtip = np1.mat(tip) \n",
        "# mat is used to convert to n dimesiona to 2 dimensional array form \n",
        "m= np1.shape(mbill)[1] # print(m) 244 data is stored in m \n",
        "one = np1.mat(np1.ones(m)) \n",
        "X= np1.hstack((one.T,mbill.T)) # create a stack of bill from ONE \n",
        "print(X) \n",
        "#set k here \n",
        "ypred = localWeightRegression(X,mtip,2) \n",
        "SortIndex = X[:,1].argsort(0)"
      ],
      "metadata": {
        "colab": {
          "base_uri": "https://localhost:8080/"
        },
        "id": "K1Bmut0rVWYp",
        "outputId": "7e239f55-ef4c-4ea2-fc48-8d29cc0acab7"
      },
      "execution_count": 9,
      "outputs": [
        {
          "output_type": "stream",
          "name": "stdout",
          "text": [
            "[[ 1.   16.99]\n",
            " [ 1.   10.34]\n",
            " [ 1.   21.01]\n",
            " [ 1.   23.68]\n",
            " [ 1.   24.59]\n",
            " [ 1.   25.29]\n",
            " [ 1.    8.77]\n",
            " [ 1.   26.88]\n",
            " [ 1.   15.04]\n",
            " [ 1.   14.78]\n",
            " [ 1.   10.27]\n",
            " [ 1.   35.26]\n",
            " [ 1.   15.42]\n",
            " [ 1.   18.43]\n",
            " [ 1.   14.83]\n",
            " [ 1.   21.58]\n",
            " [ 1.   10.33]\n",
            " [ 1.   16.29]\n",
            " [ 1.   16.97]\n",
            " [ 1.   20.65]\n",
            " [ 1.   17.92]\n",
            " [ 1.   20.29]\n",
            " [ 1.   15.77]\n",
            " [ 1.   39.42]\n",
            " [ 1.   19.82]\n",
            " [ 1.   17.81]\n",
            " [ 1.   13.37]\n",
            " [ 1.   12.69]\n",
            " [ 1.   21.7 ]\n",
            " [ 1.   19.65]\n",
            " [ 1.    9.55]\n",
            " [ 1.   18.35]\n",
            " [ 1.   15.06]\n",
            " [ 1.   20.69]\n",
            " [ 1.   17.78]\n",
            " [ 1.   24.06]\n",
            " [ 1.   16.31]\n",
            " [ 1.   16.93]\n",
            " [ 1.   18.69]\n",
            " [ 1.   31.27]\n",
            " [ 1.   16.04]\n",
            " [ 1.   17.46]\n",
            " [ 1.   13.94]\n",
            " [ 1.    9.68]\n",
            " [ 1.   30.4 ]\n",
            " [ 1.   18.29]\n",
            " [ 1.   22.23]\n",
            " [ 1.   32.4 ]\n",
            " [ 1.   28.55]\n",
            " [ 1.   18.04]\n",
            " [ 1.   12.54]\n",
            " [ 1.   10.29]\n",
            " [ 1.   34.81]\n",
            " [ 1.    9.94]\n",
            " [ 1.   25.56]\n",
            " [ 1.   19.49]\n",
            " [ 1.   38.01]\n",
            " [ 1.   26.41]\n",
            " [ 1.   11.24]\n",
            " [ 1.   48.27]\n",
            " [ 1.   20.29]\n",
            " [ 1.   13.81]\n",
            " [ 1.   11.02]\n",
            " [ 1.   18.29]\n",
            " [ 1.   17.59]\n",
            " [ 1.   20.08]\n",
            " [ 1.   16.45]\n",
            " [ 1.    3.07]\n",
            " [ 1.   20.23]\n",
            " [ 1.   15.01]\n",
            " [ 1.   12.02]\n",
            " [ 1.   17.07]\n",
            " [ 1.   26.86]\n",
            " [ 1.   25.28]\n",
            " [ 1.   14.73]\n",
            " [ 1.   10.51]\n",
            " [ 1.   17.92]\n",
            " [ 1.   27.2 ]\n",
            " [ 1.   22.76]\n",
            " [ 1.   17.29]\n",
            " [ 1.   19.44]\n",
            " [ 1.   16.66]\n",
            " [ 1.   10.07]\n",
            " [ 1.   32.68]\n",
            " [ 1.   15.98]\n",
            " [ 1.   34.83]\n",
            " [ 1.   13.03]\n",
            " [ 1.   18.28]\n",
            " [ 1.   24.71]\n",
            " [ 1.   21.16]\n",
            " [ 1.   28.97]\n",
            " [ 1.   22.49]\n",
            " [ 1.    5.75]\n",
            " [ 1.   16.32]\n",
            " [ 1.   22.75]\n",
            " [ 1.   40.17]\n",
            " [ 1.   27.28]\n",
            " [ 1.   12.03]\n",
            " [ 1.   21.01]\n",
            " [ 1.   12.46]\n",
            " [ 1.   11.35]\n",
            " [ 1.   15.38]\n",
            " [ 1.   44.3 ]\n",
            " [ 1.   22.42]\n",
            " [ 1.   20.92]\n",
            " [ 1.   15.36]\n",
            " [ 1.   20.49]\n",
            " [ 1.   25.21]\n",
            " [ 1.   18.24]\n",
            " [ 1.   14.31]\n",
            " [ 1.   14.  ]\n",
            " [ 1.    7.25]\n",
            " [ 1.   38.07]\n",
            " [ 1.   23.95]\n",
            " [ 1.   25.71]\n",
            " [ 1.   17.31]\n",
            " [ 1.   29.93]\n",
            " [ 1.   10.65]\n",
            " [ 1.   12.43]\n",
            " [ 1.   24.08]\n",
            " [ 1.   11.69]\n",
            " [ 1.   13.42]\n",
            " [ 1.   14.26]\n",
            " [ 1.   15.95]\n",
            " [ 1.   12.48]\n",
            " [ 1.   29.8 ]\n",
            " [ 1.    8.52]\n",
            " [ 1.   14.52]\n",
            " [ 1.   11.38]\n",
            " [ 1.   22.82]\n",
            " [ 1.   19.08]\n",
            " [ 1.   20.27]\n",
            " [ 1.   11.17]\n",
            " [ 1.   12.26]\n",
            " [ 1.   18.26]\n",
            " [ 1.    8.51]\n",
            " [ 1.   10.33]\n",
            " [ 1.   14.15]\n",
            " [ 1.   16.  ]\n",
            " [ 1.   13.16]\n",
            " [ 1.   17.47]\n",
            " [ 1.   34.3 ]\n",
            " [ 1.   41.19]\n",
            " [ 1.   27.05]\n",
            " [ 1.   16.43]\n",
            " [ 1.    8.35]\n",
            " [ 1.   18.64]\n",
            " [ 1.   11.87]\n",
            " [ 1.    9.78]\n",
            " [ 1.    7.51]\n",
            " [ 1.   14.07]\n",
            " [ 1.   13.13]\n",
            " [ 1.   17.26]\n",
            " [ 1.   24.55]\n",
            " [ 1.   19.77]\n",
            " [ 1.   29.85]\n",
            " [ 1.   48.17]\n",
            " [ 1.   25.  ]\n",
            " [ 1.   13.39]\n",
            " [ 1.   16.49]\n",
            " [ 1.   21.5 ]\n",
            " [ 1.   12.66]\n",
            " [ 1.   16.21]\n",
            " [ 1.   13.81]\n",
            " [ 1.   17.51]\n",
            " [ 1.   24.52]\n",
            " [ 1.   20.76]\n",
            " [ 1.   31.71]\n",
            " [ 1.   10.59]\n",
            " [ 1.   10.63]\n",
            " [ 1.   50.81]\n",
            " [ 1.   15.81]\n",
            " [ 1.    7.25]\n",
            " [ 1.   31.85]\n",
            " [ 1.   16.82]\n",
            " [ 1.   32.9 ]\n",
            " [ 1.   17.89]\n",
            " [ 1.   14.48]\n",
            " [ 1.    9.6 ]\n",
            " [ 1.   34.63]\n",
            " [ 1.   34.65]\n",
            " [ 1.   23.33]\n",
            " [ 1.   45.35]\n",
            " [ 1.   23.17]\n",
            " [ 1.   40.55]\n",
            " [ 1.   20.69]\n",
            " [ 1.   20.9 ]\n",
            " [ 1.   30.46]\n",
            " [ 1.   18.15]\n",
            " [ 1.   23.1 ]\n",
            " [ 1.   15.69]\n",
            " [ 1.   19.81]\n",
            " [ 1.   28.44]\n",
            " [ 1.   15.48]\n",
            " [ 1.   16.58]\n",
            " [ 1.    7.56]\n",
            " [ 1.   10.34]\n",
            " [ 1.   43.11]\n",
            " [ 1.   13.  ]\n",
            " [ 1.   13.51]\n",
            " [ 1.   18.71]\n",
            " [ 1.   12.74]\n",
            " [ 1.   13.  ]\n",
            " [ 1.   16.4 ]\n",
            " [ 1.   20.53]\n",
            " [ 1.   16.47]\n",
            " [ 1.   26.59]\n",
            " [ 1.   38.73]\n",
            " [ 1.   24.27]\n",
            " [ 1.   12.76]\n",
            " [ 1.   30.06]\n",
            " [ 1.   25.89]\n",
            " [ 1.   48.33]\n",
            " [ 1.   13.27]\n",
            " [ 1.   28.17]\n",
            " [ 1.   12.9 ]\n",
            " [ 1.   28.15]\n",
            " [ 1.   11.59]\n",
            " [ 1.    7.74]\n",
            " [ 1.   30.14]\n",
            " [ 1.   12.16]\n",
            " [ 1.   13.42]\n",
            " [ 1.    8.58]\n",
            " [ 1.   15.98]\n",
            " [ 1.   13.42]\n",
            " [ 1.   16.27]\n",
            " [ 1.   10.09]\n",
            " [ 1.   20.45]\n",
            " [ 1.   13.28]\n",
            " [ 1.   22.12]\n",
            " [ 1.   24.01]\n",
            " [ 1.   15.69]\n",
            " [ 1.   11.61]\n",
            " [ 1.   10.77]\n",
            " [ 1.   15.53]\n",
            " [ 1.   10.07]\n",
            " [ 1.   12.6 ]\n",
            " [ 1.   32.83]\n",
            " [ 1.   35.83]\n",
            " [ 1.   29.03]\n",
            " [ 1.   27.18]\n",
            " [ 1.   22.67]\n",
            " [ 1.   17.82]\n",
            " [ 1.   18.78]]\n"
          ]
        }
      ]
    },
    {
      "cell_type": "code",
      "source": [
        "xsort = X[SortIndex][:,0] \n",
        "fig = plt.figure() \n",
        "ax = fig.add_subplot(1,1,1) \n",
        "ax.scatter(bill,tip, color='blue') \n",
        "ax.plot(xsort[:,1],ypred[SortIndex], color = 'red', linewidth=5) \n",
        "plt.xlabel('Total bill') \n",
        "plt.ylabel('Tip') \n",
        "plt.show();"
      ],
      "metadata": {
        "colab": {
          "base_uri": "https://localhost:8080/",
          "height": 449
        },
        "id": "w6vuIgpRVYfx",
        "outputId": "4e1bee3d-6f33-4b26-dbb1-7910d176bd27"
      },
      "execution_count": 10,
      "outputs": [
        {
          "output_type": "display_data",
          "data": {
            "text/plain": [
              "<Figure size 640x480 with 1 Axes>"
            ],
            "image/png": "[encoded data removed]"
          },
          "metadata": {}
        }
      ]
    },
    {
      "cell_type": "code",
      "source": [
        "def local_regression(x0, X, Y, tau):\n",
        "    # add bias term \n",
        "    x0 = np.r_[1, x0] \n",
        "    # Add one to avoid the loss in information \n",
        "    X = np.c_[np.ones(len(X)), X] \n",
        "    # fit model: normal equations with kernel \n",
        "    xw = X.T * radial_kernel(x0, X, tau) # XTranspose * W \n",
        "    beta = np.linalg.pinv(xw @ X) @ xw @ Y #@ Matrix Multiplication or Dot Product\n",
        "    return x0 @ beta # @ Matrix Multiplication or Dot Product for prediction\n",
        "    \n",
        "def radial_kernel(x0, X, tau):\n",
        "    return np.exp(np.sum((X - x0) ** 2, axis=1) / (-2 * tau * tau))\n",
        "# Weight or Radial Kernal Bias Function\n"
      ],
      "metadata": {
        "id": "TzczkjdSWUFZ"
      },
      "execution_count": 14,
      "outputs": []
    },
    {
      "cell_type": "code",
      "source": [
        "n = 1000\n",
        "# generate dataset\n",
        "X = np.linspace(-3, 3, num=n)\n",
        "print(\"The Data Set ( 10 Samples) X :\\n\",X[1:10]) \n",
        "Y = np.log(np.abs(X ** 2 - 1) + .5)\n",
        "print(\"The Fitting Curve Data Set (10 Samples) Y:\\n\",Y[1:10])\n",
        "# jitter X\n",
        "X += np.random.normal(scale=.1, size=n) \n",
        "print(\"Normalised (10 Samples) X :\\n\",X[1:10])\n",
        "\n",
        "domain = np.linspace(-3, 3, num=300)\n",
        "print(\" Xo Domain Space(10 Samples) :\\n\",domain[1:10]) \n",
        "\n",
        "def plot_lwr(tau):\n",
        "    # prediction through regression\n",
        "    prediction = [local_regression(x0, X, Y, tau) for x0 in domain]\n",
        "    plot = figure(plot_width=400, plot_height=400) \n",
        "    plot.title.text='tau=%g' % tau\n",
        "    plot.scatter(X, Y, alpha=.3)\n",
        "    plot.line(domain, prediction, line_width=2, color='red')\n",
        "    return plot"
      ],
      "metadata": {
        "colab": {
          "base_uri": "https://localhost:8080/"
        },
        "id": "3DFMoUYaWYgu",
        "outputId": "701b5df2-ff09-4fcd-e5c5-43fd38fd10e7"
      },
      "execution_count": 15,
      "outputs": [
        {
          "output_type": "stream",
          "name": "stdout",
          "text": [
            "The Data Set ( 10 Samples) X :\n",
            " [-2.99399399 -2.98798799 -2.98198198 -2.97597598 -2.96996997 -2.96396396\n",
            " -2.95795796 -2.95195195 -2.94594595]\n",
            "The Fitting Curve Data Set (10 Samples) Y:\n",
            " [2.13582188 2.13156806 2.12730467 2.12303166 2.11874898 2.11445659\n",
            " 2.11015444 2.10584249 2.10152068]\n",
            "Normalised (10 Samples) X :\n",
            " [-2.95068131 -2.86659524 -2.81776392 -2.97034858 -2.96962891 -2.96812943\n",
            " -3.0264335  -2.82496093 -2.80557839]\n",
            " Xo Domain Space(10 Samples) :\n",
            " [-2.97993311 -2.95986622 -2.93979933 -2.91973244 -2.89966555 -2.87959866\n",
            " -2.85953177 -2.83946488 -2.81939799]\n"
          ]
        }
      ]
    },
    {
      "cell_type": "code",
      "source": [
        "show(gridplot([[plot_lwr(10.), plot_lwr(1.)],\n",
        "[plot_lwr(0.1), plot_lwr(0.01)]]))\n",
        "\n",
        "\n"
      ],
      "metadata": {
        "id": "M6OAwphHWeV9"
      },
      "execution_count": 22,
      "outputs": []
    },
    {
      "cell_type": "code",
      "source": [
        "def kernel(point,xmat, k): \n",
        "    m,n = np.shape(xmat)\n",
        "    weights = np.mat(np.eye((m))) # eye - identity matrix \n",
        "    for j in range(m):\n",
        "        diff = point - X[j]\n",
        "        weights[j,j] = np.exp(diff*diff.T/(-2.0*k**2)) \n",
        "    return weights\n",
        "\n",
        "def localWeight(point,xmat,ymat,k): \n",
        "    wei = kernel(point,xmat,k)\n",
        "    W = (X.T*(wei*X)).I*(X.T*(wei*ymat.T)) \n",
        "    return W\n",
        "\n",
        "def localWeightRegression(xmat,ymat,k): \n",
        "    m,n = np.shape(xmat)\n",
        "    ypred = np.zeros(m) \n",
        "    for i in range(m):\n",
        "        ypred[i] = xmat[i]*localWeight(xmat[i],xmat,ymat,k) \n",
        "    return ypred\n",
        "\n",
        "def graphPlot(X,ypred):\n",
        "    sortindex = X[:,1].argsort(0) #argsort - index of the smallest \n",
        "    xsort = X[sortindex][:,0]\n",
        "    fig = plt.figure()\n",
        "    ax = fig.add_subplot(1,1,1) \n",
        "    ax.scatter(bill,tip, color='green')\n",
        "    ax.plot(xsort[:,1],ypred[sortindex], color = 'red', linewidth=5) \n",
        "    plt.xlabel('Total bill')\n",
        "    plt.ylabel('Tip') \n",
        "    plt.show();"
      ],
      "metadata": {
        "id": "pouUzs8oW0un"
      },
      "execution_count": 21,
      "outputs": []
    },
    {
      "cell_type": "code",
      "source": [
        "# load data points\n",
        "data = pd.read_csv('tips.csv')\n",
        "bill = np.array(data.total_bill) # We use only Bill amount and Tips data \n",
        "tip = np.array(data.tip)\n",
        "\n",
        "mbill = np.mat(bill) # .mat will convert nd array is converted in 2D array \n",
        "mtip = np.mat(tip)\n",
        "m= np.shape(mbill)[1] \n",
        "one = np.mat(np.ones(m))\n",
        "X = np.hstack((one.T,mbill.T)) # 244 rows, 2 cols\n",
        "\n",
        "# increase k to get smooth curves\n",
        "ypred = localWeightRegression(X,mtip,3) \n",
        "graphPlot(X,ypred)"
      ],
      "metadata": {
        "colab": {
          "base_uri": "https://localhost:8080/",
          "height": 449
        },
        "id": "eYoF2x6vWlKf",
        "outputId": "cc2b37dc-29bf-4aa6-c806-cf6d238c2859"
      },
      "execution_count": 19,
      "outputs": [
        {
          "output_type": "display_data",
          "data": {
            "text/plain": [
              "<Figure size 640x480 with 1 Axes>"
            ],
            "image/png": "[encoded data removed]"
          },
          "metadata": {}
        }
      ]
    },
    {
      "cell_type": "code",
      "source": [],
      "metadata": {
        "id": "IwyZvfCzWnSS"
      },
      "execution_count": null,
      "outputs": []
    }
  ]
}